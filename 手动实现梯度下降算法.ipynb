import numpy as np
x=np.array([
    [1,2,3],
    [2.4,4.5,3.1],
    [3.9,5.1,4.9]
])
y=np.array([
    [1],
    [2],
    [3]
])
alpha=0.01
theta=np.zeros(3).reshape(-1,1)
loss=(y-x.dot(theta)).T.dot(y-x.dot(theta))
print('损失函数',loss)

#sgd
np.random.shuffle(x)
np.random.shuffle(y)
for j in range(100):
    for i in range(x.shape[0]):
        x_sample=x[i,:].reshape(-1,1)
        y_sample=y[i]
        y_final=y_sample-x_sample.T.dot(theta)
        theta=theta+alpha*y_final*x_sample
print(y_final)
loss=1/2*(y-x.dot(theta)).T.dot(y-x.dot(theta))
print('损失函数',loss)

#BGD
sum=np.zeros(3).reshape(-1,1)
np.random.shuffle(x)
np.random.shuffle(y)
for i in range(x.shape[0]):
    x_sample=x[i,:].reshape(-1,1)
    y_sample=y[i]
    dif=(y_sample-x_sample.T.dot(theta))*x_sample
#     print(dif)
    sum+=dif
theta=theta+alpha*sum
loss=1/2*(y-x.dot(theta)).T.dot(y-x.dot(theta))
print('损失函数',loss)
